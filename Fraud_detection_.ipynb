{
 "cells": [
  {
   "cell_type": "markdown",
   "id": "ac2c1d75",
   "metadata": {},
   "source": [
    "## Importing Libraries and Loading data"
   ]
  },
  {
   "cell_type": "code",
   "execution_count": 1,
   "id": "97e10cdb",
   "metadata": {},
   "outputs": [
    {
     "name": "stderr",
     "output_type": "stream",
     "text": [
      "C:\\Users\\harsh\\anaconda3\\lib\\site-packages\\numpy\\_distributor_init.py:30: UserWarning: loaded more than 1 DLL from .libs:\n",
      "C:\\Users\\harsh\\anaconda3\\lib\\site-packages\\numpy\\.libs\\libopenblas.WCDJNK7YVMPZQ2ME2ZZHJJRJ3JIKNDB7.gfortran-win_amd64.dll\n",
      "C:\\Users\\harsh\\anaconda3\\lib\\site-packages\\numpy\\.libs\\libopenblas.XWYDX2IKJW2NMTWSFYNGFUWKQU3LYTCZ.gfortran-win_amd64.dll\n",
      "  warnings.warn(\"loaded more than 1 DLL from .libs:\"\n"
     ]
    }
   ],
   "source": [
    "import pandas as pd\n",
    "import numpy as np\n",
    "from scipy import stats\n",
    "import matplotlib.pyplot as plt\n",
    "%matplotlib inline\n",
    "import seaborn as sns\n",
    "from sklearn.model_selection import train_test_split"
   ]
  },
  {
   "cell_type": "code",
   "execution_count": 2,
   "id": "e15d45d1",
   "metadata": {},
   "outputs": [
    {
     "data": {
      "text/html": [
       "<div>\n",
       "<style scoped>\n",
       "    .dataframe tbody tr th:only-of-type {\n",
       "        vertical-align: middle;\n",
       "    }\n",
       "\n",
       "    .dataframe tbody tr th {\n",
       "        vertical-align: top;\n",
       "    }\n",
       "\n",
       "    .dataframe thead th {\n",
       "        text-align: right;\n",
       "    }\n",
       "</style>\n",
       "<table border=\"1\" class=\"dataframe\">\n",
       "  <thead>\n",
       "    <tr style=\"text-align: right;\">\n",
       "      <th></th>\n",
       "      <th>step</th>\n",
       "      <th>type</th>\n",
       "      <th>amount</th>\n",
       "      <th>nameOrig</th>\n",
       "      <th>oldbalanceOrg</th>\n",
       "      <th>newbalanceOrig</th>\n",
       "      <th>nameDest</th>\n",
       "      <th>oldbalanceDest</th>\n",
       "      <th>newbalanceDest</th>\n",
       "      <th>isFraud</th>\n",
       "      <th>isFlaggedFraud</th>\n",
       "    </tr>\n",
       "  </thead>\n",
       "  <tbody>\n",
       "    <tr>\n",
       "      <th>0</th>\n",
       "      <td>1</td>\n",
       "      <td>PAYMENT</td>\n",
       "      <td>9839.64</td>\n",
       "      <td>C1231006815</td>\n",
       "      <td>170136.0</td>\n",
       "      <td>160296.36</td>\n",
       "      <td>M1979787155</td>\n",
       "      <td>0.0</td>\n",
       "      <td>0.0</td>\n",
       "      <td>0</td>\n",
       "      <td>0</td>\n",
       "    </tr>\n",
       "    <tr>\n",
       "      <th>1</th>\n",
       "      <td>1</td>\n",
       "      <td>PAYMENT</td>\n",
       "      <td>1864.28</td>\n",
       "      <td>C1666544295</td>\n",
       "      <td>21249.0</td>\n",
       "      <td>19384.72</td>\n",
       "      <td>M2044282225</td>\n",
       "      <td>0.0</td>\n",
       "      <td>0.0</td>\n",
       "      <td>0</td>\n",
       "      <td>0</td>\n",
       "    </tr>\n",
       "    <tr>\n",
       "      <th>2</th>\n",
       "      <td>1</td>\n",
       "      <td>TRANSFER</td>\n",
       "      <td>181.00</td>\n",
       "      <td>C1305486145</td>\n",
       "      <td>181.0</td>\n",
       "      <td>0.00</td>\n",
       "      <td>C553264065</td>\n",
       "      <td>0.0</td>\n",
       "      <td>0.0</td>\n",
       "      <td>1</td>\n",
       "      <td>0</td>\n",
       "    </tr>\n",
       "    <tr>\n",
       "      <th>3</th>\n",
       "      <td>1</td>\n",
       "      <td>CASH_OUT</td>\n",
       "      <td>181.00</td>\n",
       "      <td>C840083671</td>\n",
       "      <td>181.0</td>\n",
       "      <td>0.00</td>\n",
       "      <td>C38997010</td>\n",
       "      <td>21182.0</td>\n",
       "      <td>0.0</td>\n",
       "      <td>1</td>\n",
       "      <td>0</td>\n",
       "    </tr>\n",
       "    <tr>\n",
       "      <th>4</th>\n",
       "      <td>1</td>\n",
       "      <td>PAYMENT</td>\n",
       "      <td>11668.14</td>\n",
       "      <td>C2048537720</td>\n",
       "      <td>41554.0</td>\n",
       "      <td>29885.86</td>\n",
       "      <td>M1230701703</td>\n",
       "      <td>0.0</td>\n",
       "      <td>0.0</td>\n",
       "      <td>0</td>\n",
       "      <td>0</td>\n",
       "    </tr>\n",
       "  </tbody>\n",
       "</table>\n",
       "</div>"
      ],
      "text/plain": [
       "   step      type    amount     nameOrig  oldbalanceOrg  newbalanceOrig  \\\n",
       "0     1   PAYMENT   9839.64  C1231006815       170136.0       160296.36   \n",
       "1     1   PAYMENT   1864.28  C1666544295        21249.0        19384.72   \n",
       "2     1  TRANSFER    181.00  C1305486145          181.0            0.00   \n",
       "3     1  CASH_OUT    181.00   C840083671          181.0            0.00   \n",
       "4     1   PAYMENT  11668.14  C2048537720        41554.0        29885.86   \n",
       "\n",
       "      nameDest  oldbalanceDest  newbalanceDest  isFraud  isFlaggedFraud  \n",
       "0  M1979787155             0.0             0.0        0               0  \n",
       "1  M2044282225             0.0             0.0        0               0  \n",
       "2   C553264065             0.0             0.0        1               0  \n",
       "3    C38997010         21182.0             0.0        1               0  \n",
       "4  M1230701703             0.0             0.0        0               0  "
      ]
     },
     "execution_count": 2,
     "metadata": {},
     "output_type": "execute_result"
    }
   ],
   "source": [
    "df = pd.read_csv('Fraud.csv')\n",
    "df.head()"
   ]
  },
  {
   "cell_type": "code",
   "execution_count": 3,
   "id": "bdc7b6bd",
   "metadata": {},
   "outputs": [
    {
     "data": {
      "text/html": [
       "<div>\n",
       "<style scoped>\n",
       "    .dataframe tbody tr th:only-of-type {\n",
       "        vertical-align: middle;\n",
       "    }\n",
       "\n",
       "    .dataframe tbody tr th {\n",
       "        vertical-align: top;\n",
       "    }\n",
       "\n",
       "    .dataframe thead th {\n",
       "        text-align: right;\n",
       "    }\n",
       "</style>\n",
       "<table border=\"1\" class=\"dataframe\">\n",
       "  <thead>\n",
       "    <tr style=\"text-align: right;\">\n",
       "      <th></th>\n",
       "      <th>step</th>\n",
       "      <th>type</th>\n",
       "      <th>amount</th>\n",
       "      <th>nameOrig</th>\n",
       "      <th>oldbalanceOrg</th>\n",
       "      <th>newbalanceOrig</th>\n",
       "      <th>nameDest</th>\n",
       "      <th>oldbalanceDest</th>\n",
       "      <th>newbalanceDest</th>\n",
       "      <th>isFraud</th>\n",
       "      <th>isFlaggedFraud</th>\n",
       "    </tr>\n",
       "  </thead>\n",
       "  <tbody>\n",
       "    <tr>\n",
       "      <th>6362615</th>\n",
       "      <td>743</td>\n",
       "      <td>CASH_OUT</td>\n",
       "      <td>339682.13</td>\n",
       "      <td>C786484425</td>\n",
       "      <td>339682.13</td>\n",
       "      <td>0.0</td>\n",
       "      <td>C776919290</td>\n",
       "      <td>0.00</td>\n",
       "      <td>339682.13</td>\n",
       "      <td>1</td>\n",
       "      <td>0</td>\n",
       "    </tr>\n",
       "    <tr>\n",
       "      <th>6362616</th>\n",
       "      <td>743</td>\n",
       "      <td>TRANSFER</td>\n",
       "      <td>6311409.28</td>\n",
       "      <td>C1529008245</td>\n",
       "      <td>6311409.28</td>\n",
       "      <td>0.0</td>\n",
       "      <td>C1881841831</td>\n",
       "      <td>0.00</td>\n",
       "      <td>0.00</td>\n",
       "      <td>1</td>\n",
       "      <td>0</td>\n",
       "    </tr>\n",
       "    <tr>\n",
       "      <th>6362617</th>\n",
       "      <td>743</td>\n",
       "      <td>CASH_OUT</td>\n",
       "      <td>6311409.28</td>\n",
       "      <td>C1162922333</td>\n",
       "      <td>6311409.28</td>\n",
       "      <td>0.0</td>\n",
       "      <td>C1365125890</td>\n",
       "      <td>68488.84</td>\n",
       "      <td>6379898.11</td>\n",
       "      <td>1</td>\n",
       "      <td>0</td>\n",
       "    </tr>\n",
       "    <tr>\n",
       "      <th>6362618</th>\n",
       "      <td>743</td>\n",
       "      <td>TRANSFER</td>\n",
       "      <td>850002.52</td>\n",
       "      <td>C1685995037</td>\n",
       "      <td>850002.52</td>\n",
       "      <td>0.0</td>\n",
       "      <td>C2080388513</td>\n",
       "      <td>0.00</td>\n",
       "      <td>0.00</td>\n",
       "      <td>1</td>\n",
       "      <td>0</td>\n",
       "    </tr>\n",
       "    <tr>\n",
       "      <th>6362619</th>\n",
       "      <td>743</td>\n",
       "      <td>CASH_OUT</td>\n",
       "      <td>850002.52</td>\n",
       "      <td>C1280323807</td>\n",
       "      <td>850002.52</td>\n",
       "      <td>0.0</td>\n",
       "      <td>C873221189</td>\n",
       "      <td>6510099.11</td>\n",
       "      <td>7360101.63</td>\n",
       "      <td>1</td>\n",
       "      <td>0</td>\n",
       "    </tr>\n",
       "  </tbody>\n",
       "</table>\n",
       "</div>"
      ],
      "text/plain": [
       "         step      type      amount     nameOrig  oldbalanceOrg  \\\n",
       "6362615   743  CASH_OUT   339682.13   C786484425      339682.13   \n",
       "6362616   743  TRANSFER  6311409.28  C1529008245     6311409.28   \n",
       "6362617   743  CASH_OUT  6311409.28  C1162922333     6311409.28   \n",
       "6362618   743  TRANSFER   850002.52  C1685995037      850002.52   \n",
       "6362619   743  CASH_OUT   850002.52  C1280323807      850002.52   \n",
       "\n",
       "         newbalanceOrig     nameDest  oldbalanceDest  newbalanceDest  isFraud  \\\n",
       "6362615             0.0   C776919290            0.00       339682.13        1   \n",
       "6362616             0.0  C1881841831            0.00            0.00        1   \n",
       "6362617             0.0  C1365125890        68488.84      6379898.11        1   \n",
       "6362618             0.0  C2080388513            0.00            0.00        1   \n",
       "6362619             0.0   C873221189      6510099.11      7360101.63        1   \n",
       "\n",
       "         isFlaggedFraud  \n",
       "6362615               0  \n",
       "6362616               0  \n",
       "6362617               0  \n",
       "6362618               0  \n",
       "6362619               0  "
      ]
     },
     "execution_count": 3,
     "metadata": {},
     "output_type": "execute_result"
    }
   ],
   "source": [
    "df.tail()"
   ]
  },
  {
   "cell_type": "markdown",
   "id": "1158ee0a",
   "metadata": {},
   "source": [
    "## Exploratory Data Analysis"
   ]
  },
  {
   "cell_type": "code",
   "execution_count": 4,
   "id": "1ca65320",
   "metadata": {},
   "outputs": [
    {
     "data": {
      "text/plain": [
       "step              0\n",
       "type              0\n",
       "amount            0\n",
       "nameOrig          0\n",
       "oldbalanceOrg     0\n",
       "newbalanceOrig    0\n",
       "nameDest          0\n",
       "oldbalanceDest    0\n",
       "newbalanceDest    0\n",
       "isFraud           0\n",
       "isFlaggedFraud    0\n",
       "dtype: int64"
      ]
     },
     "execution_count": 4,
     "metadata": {},
     "output_type": "execute_result"
    }
   ],
   "source": [
    "df.isnull().sum()"
   ]
  },
  {
   "cell_type": "markdown",
   "id": "70e64961",
   "metadata": {},
   "source": [
    "* The data contains no null values"
   ]
  },
  {
   "cell_type": "code",
   "execution_count": 5,
   "id": "8d6b401e",
   "metadata": {},
   "outputs": [
    {
     "data": {
      "text/html": [
       "<div>\n",
       "<style scoped>\n",
       "    .dataframe tbody tr th:only-of-type {\n",
       "        vertical-align: middle;\n",
       "    }\n",
       "\n",
       "    .dataframe tbody tr th {\n",
       "        vertical-align: top;\n",
       "    }\n",
       "\n",
       "    .dataframe thead th {\n",
       "        text-align: right;\n",
       "    }\n",
       "</style>\n",
       "<table border=\"1\" class=\"dataframe\">\n",
       "  <thead>\n",
       "    <tr style=\"text-align: right;\">\n",
       "      <th></th>\n",
       "      <th>step</th>\n",
       "      <th>amount</th>\n",
       "      <th>oldbalanceOrg</th>\n",
       "      <th>newbalanceOrig</th>\n",
       "      <th>oldbalanceDest</th>\n",
       "      <th>newbalanceDest</th>\n",
       "      <th>isFraud</th>\n",
       "      <th>isFlaggedFraud</th>\n",
       "    </tr>\n",
       "  </thead>\n",
       "  <tbody>\n",
       "    <tr>\n",
       "      <th>count</th>\n",
       "      <td>6.362620e+06</td>\n",
       "      <td>6.362620e+06</td>\n",
       "      <td>6.362620e+06</td>\n",
       "      <td>6.362620e+06</td>\n",
       "      <td>6.362620e+06</td>\n",
       "      <td>6.362620e+06</td>\n",
       "      <td>6.362620e+06</td>\n",
       "      <td>6.362620e+06</td>\n",
       "    </tr>\n",
       "    <tr>\n",
       "      <th>mean</th>\n",
       "      <td>2.433972e+02</td>\n",
       "      <td>1.798619e+05</td>\n",
       "      <td>8.338831e+05</td>\n",
       "      <td>8.551137e+05</td>\n",
       "      <td>1.100702e+06</td>\n",
       "      <td>1.224996e+06</td>\n",
       "      <td>1.290820e-03</td>\n",
       "      <td>2.514687e-06</td>\n",
       "    </tr>\n",
       "    <tr>\n",
       "      <th>std</th>\n",
       "      <td>1.423320e+02</td>\n",
       "      <td>6.038582e+05</td>\n",
       "      <td>2.888243e+06</td>\n",
       "      <td>2.924049e+06</td>\n",
       "      <td>3.399180e+06</td>\n",
       "      <td>3.674129e+06</td>\n",
       "      <td>3.590480e-02</td>\n",
       "      <td>1.585775e-03</td>\n",
       "    </tr>\n",
       "    <tr>\n",
       "      <th>min</th>\n",
       "      <td>1.000000e+00</td>\n",
       "      <td>0.000000e+00</td>\n",
       "      <td>0.000000e+00</td>\n",
       "      <td>0.000000e+00</td>\n",
       "      <td>0.000000e+00</td>\n",
       "      <td>0.000000e+00</td>\n",
       "      <td>0.000000e+00</td>\n",
       "      <td>0.000000e+00</td>\n",
       "    </tr>\n",
       "    <tr>\n",
       "      <th>25%</th>\n",
       "      <td>1.560000e+02</td>\n",
       "      <td>1.338957e+04</td>\n",
       "      <td>0.000000e+00</td>\n",
       "      <td>0.000000e+00</td>\n",
       "      <td>0.000000e+00</td>\n",
       "      <td>0.000000e+00</td>\n",
       "      <td>0.000000e+00</td>\n",
       "      <td>0.000000e+00</td>\n",
       "    </tr>\n",
       "    <tr>\n",
       "      <th>50%</th>\n",
       "      <td>2.390000e+02</td>\n",
       "      <td>7.487194e+04</td>\n",
       "      <td>1.420800e+04</td>\n",
       "      <td>0.000000e+00</td>\n",
       "      <td>1.327057e+05</td>\n",
       "      <td>2.146614e+05</td>\n",
       "      <td>0.000000e+00</td>\n",
       "      <td>0.000000e+00</td>\n",
       "    </tr>\n",
       "    <tr>\n",
       "      <th>75%</th>\n",
       "      <td>3.350000e+02</td>\n",
       "      <td>2.087215e+05</td>\n",
       "      <td>1.073152e+05</td>\n",
       "      <td>1.442584e+05</td>\n",
       "      <td>9.430367e+05</td>\n",
       "      <td>1.111909e+06</td>\n",
       "      <td>0.000000e+00</td>\n",
       "      <td>0.000000e+00</td>\n",
       "    </tr>\n",
       "    <tr>\n",
       "      <th>max</th>\n",
       "      <td>7.430000e+02</td>\n",
       "      <td>9.244552e+07</td>\n",
       "      <td>5.958504e+07</td>\n",
       "      <td>4.958504e+07</td>\n",
       "      <td>3.560159e+08</td>\n",
       "      <td>3.561793e+08</td>\n",
       "      <td>1.000000e+00</td>\n",
       "      <td>1.000000e+00</td>\n",
       "    </tr>\n",
       "  </tbody>\n",
       "</table>\n",
       "</div>"
      ],
      "text/plain": [
       "               step        amount  oldbalanceOrg  newbalanceOrig  \\\n",
       "count  6.362620e+06  6.362620e+06   6.362620e+06    6.362620e+06   \n",
       "mean   2.433972e+02  1.798619e+05   8.338831e+05    8.551137e+05   \n",
       "std    1.423320e+02  6.038582e+05   2.888243e+06    2.924049e+06   \n",
       "min    1.000000e+00  0.000000e+00   0.000000e+00    0.000000e+00   \n",
       "25%    1.560000e+02  1.338957e+04   0.000000e+00    0.000000e+00   \n",
       "50%    2.390000e+02  7.487194e+04   1.420800e+04    0.000000e+00   \n",
       "75%    3.350000e+02  2.087215e+05   1.073152e+05    1.442584e+05   \n",
       "max    7.430000e+02  9.244552e+07   5.958504e+07    4.958504e+07   \n",
       "\n",
       "       oldbalanceDest  newbalanceDest       isFraud  isFlaggedFraud  \n",
       "count    6.362620e+06    6.362620e+06  6.362620e+06    6.362620e+06  \n",
       "mean     1.100702e+06    1.224996e+06  1.290820e-03    2.514687e-06  \n",
       "std      3.399180e+06    3.674129e+06  3.590480e-02    1.585775e-03  \n",
       "min      0.000000e+00    0.000000e+00  0.000000e+00    0.000000e+00  \n",
       "25%      0.000000e+00    0.000000e+00  0.000000e+00    0.000000e+00  \n",
       "50%      1.327057e+05    2.146614e+05  0.000000e+00    0.000000e+00  \n",
       "75%      9.430367e+05    1.111909e+06  0.000000e+00    0.000000e+00  \n",
       "max      3.560159e+08    3.561793e+08  1.000000e+00    1.000000e+00  "
      ]
     },
     "execution_count": 5,
     "metadata": {},
     "output_type": "execute_result"
    }
   ],
   "source": [
    "df.describe()"
   ]
  },
  {
   "cell_type": "markdown",
   "id": "9cfa2e6f",
   "metadata": {},
   "source": [
    "### Histogram"
   ]
  },
  {
   "cell_type": "code",
   "execution_count": 6,
   "id": "cfeaa8e8",
   "metadata": {},
   "outputs": [
    {
     "data": {
      "text/plain": [
       "array([[<AxesSubplot:title={'center':'step'}>,\n",
       "        <AxesSubplot:title={'center':'amount'}>,\n",
       "        <AxesSubplot:title={'center':'oldbalanceOrg'}>],\n",
       "       [<AxesSubplot:title={'center':'newbalanceOrig'}>,\n",
       "        <AxesSubplot:title={'center':'oldbalanceDest'}>,\n",
       "        <AxesSubplot:title={'center':'newbalanceDest'}>],\n",
       "       [<AxesSubplot:title={'center':'isFraud'}>,\n",
       "        <AxesSubplot:title={'center':'isFlaggedFraud'}>, <AxesSubplot:>]],\n",
       "      dtype=object)"
      ]
     },
     "execution_count": 6,
     "metadata": {},
     "output_type": "execute_result"
    },
    {
     "data": {
      "image/png": "[encoded data removed]",
      "text/plain": [
       "<Figure size 1152x864 with 9 Axes>"
      ]
     },
     "metadata": {
      "needs_background": "light"
     },
     "output_type": "display_data"
    }
   ],
   "source": [
    "df.hist(figsize=(16,12))"
   ]
  },
  {
   "cell_type": "markdown",
   "id": "648703f7",
   "metadata": {},
   "source": [
    "### Correlation Heatmap"
   ]
  },
  {
   "cell_type": "code",
   "execution_count": 7,
   "id": "ad6a07e4",
   "metadata": {},
   "outputs": [
    {
     "data": {
      "text/plain": [
       "<AxesSubplot:>"
      ]
     },
     "execution_count": 7,
     "metadata": {},
     "output_type": "execute_result"
    },
    {
     "data": {
      "image/png": "[encoded data removed]",
      "text/plain": [
       "<Figure size 1080x504 with 2 Axes>"
      ]
     },
     "metadata": {
      "needs_background": "light"
     },
     "output_type": "display_data"
    }
   ],
   "source": [
    "plt.figure(figsize=(15,7))\n",
    "sns.heatmap(df.corr(), annot=True)"
   ]
  },
  {
   "cell_type": "markdown",
   "id": "0be61b15",
   "metadata": {},
   "source": [
    "* **oldbalanceOrg** is highly correlated with **newbalanceOrig** \n",
    "* **oldbalanceDest** is highly correlated with **newbalanceOrg** "
   ]
  },
  {
   "cell_type": "code",
   "execution_count": 8,
   "id": "a696f549",
   "metadata": {},
   "outputs": [
    {
     "data": {
      "text/plain": [
       "8213"
      ]
     },
     "execution_count": 8,
     "metadata": {},
     "output_type": "execute_result"
    }
   ],
   "source": [
    "df.isFraud.sum()"
   ]
  },
  {
   "cell_type": "markdown",
   "id": "b46e1112",
   "metadata": {},
   "source": [
    "* Very small amount of transactions are found to be fraud"
   ]
  },
  {
   "cell_type": "code",
   "execution_count": 9,
   "id": "422ff13b",
   "metadata": {
    "scrolled": false
   },
   "outputs": [
    {
     "data": {
      "image/png": "[encoded data removed]",
      "text/plain": [
       "<Figure size 720x504 with 1 Axes>"
      ]
     },
     "metadata": {},
     "output_type": "display_data"
    }
   ],
   "source": [
    "typex = ['CASH-IN', 'CASH-OUT', 'DEBIT',\n",
    "        'PAYMENT', 'TRANSFER']\n",
    " \n",
    "data = [df.type.value_counts()['CASH_IN'], df.type.value_counts()['CASH_OUT'], \n",
    "        df.type.value_counts()['DEBIT'], df.type.value_counts()['PAYMENT'], \n",
    "        df.type.value_counts()['TRANSFER']]\n",
    " \n",
    "fig = plt.figure(figsize =(10, 7))\n",
    "plt.pie(data, labels = typex)\n",
    "\n",
    "plt.show()"
   ]
  },
  {
   "cell_type": "code",
   "execution_count": 10,
   "id": "c64146ad",
   "metadata": {},
   "outputs": [
    {
     "data": {
      "text/plain": [
       "<AxesSubplot:>"
      ]
     },
     "execution_count": 10,
     "metadata": {},
     "output_type": "execute_result"
    },
    {
     "data": {
      "image/png": "[encoded data removed]",
      "text/plain": [
       "<Figure size 1080x504 with 1 Axes>"
      ]
     },
     "metadata": {
      "needs_background": "light"
     },
     "output_type": "display_data"
    }
   ],
   "source": [
    "pdata = [df.amount.where(df.type=='CASH_IN').sum(), df.amount.where(df.type=='CASH_OUT').sum()\n",
    "         , df.amount.where(df.type=='DEBIT').sum(), df.amount.where(df.type=='PAYMENT').sum()\n",
    "         , df.amount.where(df.type=='TRANSFER').sum()]\n",
    "\n",
    "plt.figure(figsize=(15,7))\n",
    "sns.barplot(y=pdata, x=['CASH_IN', 'CASH_OUT', 'DEBIT', 'PAYMENT', 'TRANSFER'])"
   ]
  },
  {
   "cell_type": "code",
   "execution_count": 11,
   "id": "94dd63e9",
   "metadata": {},
   "outputs": [
    {
     "data": {
      "image/png": "[encoded data removed]",
      "text/plain": [
       "<Figure size 720x504 with 1 Axes>"
      ]
     },
     "metadata": {},
     "output_type": "display_data"
    }
   ],
   "source": [
    "typex = ['FRAUD', 'NORMAL']\n",
    " \n",
    "data = [df.isFraud.value_counts()[1], df.isFraud.value_counts()[0]]\n",
    " \n",
    "fig = plt.figure(figsize =(10, 7))\n",
    "plt.pie(data, labels = typex)\n",
    "\n",
    "plt.show()"
   ]
  },
  {
   "cell_type": "code",
   "execution_count": 12,
   "id": "b00dc39d",
   "metadata": {},
   "outputs": [
    {
     "data": {
      "text/plain": [
       "<AxesSubplot:>"
      ]
     },
     "execution_count": 12,
     "metadata": {},
     "output_type": "execute_result"
    },
    {
     "data": {
      "image/png": "[encoded data removed]",
      "text/plain": [
       "<Figure size 360x504 with 1 Axes>"
      ]
     },
     "metadata": {
      "needs_background": "light"
     },
     "output_type": "display_data"
    }
   ],
   "source": [
    "pdata = [df.amount.where(df.isFraud==1).sum(), df.amount.where(df.isFraud==0).sum()]\n",
    "\n",
    "plt.figure(figsize=(5,7))\n",
    "sns.barplot(y=pdata, x=['Fraud', 'Normal'])"
   ]
  },
  {
   "cell_type": "markdown",
   "id": "c403d4bc",
   "metadata": {},
   "source": [
    "### Finding and Capping Outliers"
   ]
  },
  {
   "cell_type": "code",
   "execution_count": 13,
   "id": "c20d1409",
   "metadata": {},
   "outputs": [
    {
     "data": {
      "image/png": "[encoded data removed]",
      "text/plain": [
       "<Figure size 1440x1224 with 6 Axes>"
      ]
     },
     "metadata": {
      "needs_background": "light"
     },
     "output_type": "display_data"
    }
   ],
   "source": [
    "fig, axes = plt.subplots(2, 3, figsize=(20, 17))\n",
    "fig.suptitle('Outliers', fontsize=25)\n",
    "\n",
    "ax=sns.boxplot(ax=axes[0,0], data=df['amount'])\n",
    "ax.set_title('amount')\n",
    "ax=sns.boxplot(ax=axes[0,1], data=df['oldbalanceOrg'])\n",
    "ax.set_title('oldbalanceOrg')\n",
    "ax=sns.boxplot(ax=axes[0,2], data=df['newbalanceOrig'])\n",
    "ax.set_title('newbalanceOrig')\n",
    "ax=sns.boxplot(ax=axes[1,0], data=df['oldbalanceDest'])\n",
    "ax.set_title('oldbalanceDest')\n",
    "ax=sns.boxplot(ax=axes[1,1], data=df['newbalanceDest'])\n",
    "ax.set_title('newbalanceDest')\n",
    "\n",
    "plt.show()"
   ]
  },
  {
   "cell_type": "code",
   "execution_count": 14,
   "id": "f2a1f5c9",
   "metadata": {},
   "outputs": [],
   "source": [
    "new_df = df.copy()"
   ]
  },
  {
   "cell_type": "code",
   "execution_count": 15,
   "id": "8f11c8b5",
   "metadata": {},
   "outputs": [
    {
     "name": "stdout",
     "output_type": "stream",
     "text": [
      "Upper bound: 501719.4075\n",
      "Lower bound: -279608.33249999996\n",
      "No. of Outliers: 338077\n",
      "Percentage of Outliers: 0.05313487211243167\n"
     ]
    }
   ],
   "source": [
    "Q1 = np.percentile(df['amount'], 25, interpolation = 'midpoint')\n",
    "Q3 = np.percentile(df['amount'], 75, interpolation = 'midpoint')\n",
    "IQR = Q3 - Q1\n",
    "\n",
    "upper_limit = (Q3+1.5*IQR)\n",
    "lower_limit = (Q1-1.5*IQR)\n",
    "\n",
    "print(\"Upper bound:\", upper_limit)\n",
    "print(\"Lower bound:\", lower_limit)\n",
    "n = ((df['amount'] < lower_limit) | (df['amount'] > upper_limit)).sum()\n",
    "print(\"No. of Outliers:\", n)\n",
    "print(\"Percentage of Outliers:\", n/len(df['amount']) )"
   ]
  },
  {
   "cell_type": "code",
   "execution_count": 16,
   "id": "e142d258",
   "metadata": {},
   "outputs": [],
   "source": [
    "new_df['amount'] = np.where(\n",
    "    new_df['amount'] > upper_limit,\n",
    "    upper_limit,\n",
    "    np.where(\n",
    "        new_df['amount'] < lower_limit,\n",
    "        lower_limit,\n",
    "        new_df['amount']\n",
    "    )\n",
    ")"
   ]
  },
  {
   "cell_type": "code",
   "execution_count": 17,
   "id": "cf2b9232",
   "metadata": {},
   "outputs": [
    {
     "name": "stdout",
     "output_type": "stream",
     "text": [
      "Upper bound: 268288.375\n",
      "Lower bound: -160973.02500000002\n",
      "No. of Outliers: 1112507\n",
      "Percentage of Outliers: 0.17485045468690572\n"
     ]
    }
   ],
   "source": [
    "Q1 = np.percentile(df['oldbalanceOrg'], 25, interpolation = 'midpoint')\n",
    "Q3 = np.percentile(df['oldbalanceOrg'], 75, interpolation = 'midpoint')\n",
    "IQR = Q3 - Q1\n",
    "\n",
    "upper_limit = (Q3+1.5*IQR)\n",
    "lower_limit = (Q1-1.5*IQR)\n",
    "\n",
    "print(\"Upper bound:\", upper_limit)\n",
    "print(\"Lower bound:\", lower_limit)\n",
    "n = ((df['oldbalanceOrg'] < lower_limit) | (df['oldbalanceOrg'] > upper_limit)).sum()\n",
    "print(\"No. of Outliers:\", n)\n",
    "print(\"Percentage of Outliers:\", n/len(df['oldbalanceOrg']) )"
   ]
  },
  {
   "cell_type": "code",
   "execution_count": 18,
   "id": "4434272a",
   "metadata": {},
   "outputs": [],
   "source": [
    "new_df['oldbalanceOrg'] = np.where(\n",
    "    new_df['oldbalanceOrg'] > upper_limit,\n",
    "    upper_limit,\n",
    "    np.where(\n",
    "        new_df['oldbalanceOrg'] < lower_limit,\n",
    "        lower_limit,\n",
    "        new_df['oldbalanceOrg']\n",
    "    )\n",
    ")"
   ]
  },
  {
   "cell_type": "code",
   "execution_count": 19,
   "id": "d84447b3",
   "metadata": {},
   "outputs": [
    {
     "name": "stdout",
     "output_type": "stream",
     "text": [
      "Upper bound: 360646.025\n",
      "Lower bound: -216387.615\n",
      "No. of Outliers: 1053391\n",
      "Percentage of Outliers: 0.16555931361608897\n"
     ]
    }
   ],
   "source": [
    "Q1 = np.percentile(df['newbalanceOrig'], 25, interpolation = 'midpoint')\n",
    "Q3 = np.percentile(df['newbalanceOrig'], 75, interpolation = 'midpoint')\n",
    "IQR = Q3 - Q1\n",
    "\n",
    "upper_limit = (Q3+1.5*IQR)\n",
    "lower_limit = (Q1-1.5*IQR)\n",
    "\n",
    "print(\"Upper bound:\", upper_limit)\n",
    "print(\"Lower bound:\", lower_limit)\n",
    "n = ((df['newbalanceOrig'] < lower_limit) | (df['newbalanceOrig'] > upper_limit)).sum()\n",
    "print(\"No. of Outliers:\", n)\n",
    "print(\"Percentage of Outliers:\", n/len(df['newbalanceOrig']) )"
   ]
  },
  {
   "cell_type": "code",
   "execution_count": 20,
   "id": "d19cec9d",
   "metadata": {},
   "outputs": [],
   "source": [
    "new_df['newbalanceOrig'] = np.where(\n",
    "    new_df['newbalanceOrig'] > upper_limit,\n",
    "    upper_limit,\n",
    "    np.where(\n",
    "        new_df['newbalanceOrig'] < lower_limit,\n",
    "        lower_limit,\n",
    "        new_df['newbalanceOrig']\n",
    "    )\n",
    ")"
   ]
  },
  {
   "cell_type": "code",
   "execution_count": 21,
   "id": "524bb78b",
   "metadata": {},
   "outputs": [
    {
     "name": "stdout",
     "output_type": "stream",
     "text": [
      "Upper bound: 2357592.2125000004\n",
      "Lower bound: -1414555.3275000001\n",
      "No. of Outliers: 786135\n",
      "Percentage of Outliers: 0.12355523353587045\n"
     ]
    }
   ],
   "source": [
    "Q1 = np.percentile(df['oldbalanceDest'], 25, interpolation = 'midpoint')\n",
    "Q3 = np.percentile(df['oldbalanceDest'], 75, interpolation = 'midpoint')\n",
    "IQR = Q3 - Q1\n",
    "\n",
    "upper_limit = (Q3+1.5*IQR)\n",
    "lower_limit = (Q1-1.5*IQR)\n",
    "\n",
    "print(\"Upper bound:\", upper_limit)\n",
    "print(\"Lower bound:\", lower_limit)\n",
    "n = ((df['oldbalanceDest'] < lower_limit) | (df['oldbalanceDest'] > upper_limit)).sum()\n",
    "print(\"No. of Outliers:\", n)\n",
    "print(\"Percentage of Outliers:\", n/len(df['oldbalanceDest']) )"
   ]
  },
  {
   "cell_type": "code",
   "execution_count": 22,
   "id": "47145b1d",
   "metadata": {},
   "outputs": [],
   "source": [
    "new_df['oldbalanceDest'] = np.where(\n",
    "    new_df['oldbalanceDest'] > upper_limit,\n",
    "    upper_limit,\n",
    "    np.where(\n",
    "        new_df['oldbalanceDest'] < lower_limit,\n",
    "        lower_limit,\n",
    "        new_df['oldbalanceDest']\n",
    "    )\n",
    ")"
   ]
  },
  {
   "cell_type": "code",
   "execution_count": 23,
   "id": "e1560523",
   "metadata": {},
   "outputs": [
    {
     "name": "stdout",
     "output_type": "stream",
     "text": [
      "Upper bound: 2779773.3499999996\n",
      "Lower bound: -1667864.0099999998\n",
      "No. of Outliers: 738527\n",
      "Percentage of Outliers: 0.11607278133850521\n"
     ]
    }
   ],
   "source": [
    "Q1 = np.percentile(df['newbalanceDest'], 25, interpolation = 'midpoint')\n",
    "Q3 = np.percentile(df['newbalanceDest'], 75, interpolation = 'midpoint')\n",
    "IQR = Q3 - Q1\n",
    "\n",
    "upper_limit = (Q3+1.5*IQR)\n",
    "lower_limit = (Q1-1.5*IQR)\n",
    "\n",
    "print(\"Upper bound:\", upper_limit)\n",
    "print(\"Lower bound:\", lower_limit)\n",
    "n = ((df['newbalanceDest'] < lower_limit) | (df['newbalanceDest'] > upper_limit)).sum()\n",
    "print(\"No. of Outliers:\", n)\n",
    "print(\"Percentage of Outliers:\", n/len(df['newbalanceDest']) )"
   ]
  },
  {
   "cell_type": "code",
   "execution_count": 24,
   "id": "e4f2cb45",
   "metadata": {},
   "outputs": [],
   "source": [
    "new_df['newbalanceDest'] = np.where(\n",
    "    new_df['newbalanceDest'] > upper_limit,\n",
    "    upper_limit,\n",
    "    np.where(\n",
    "        new_df['newbalanceDest'] < lower_limit,\n",
    "        lower_limit,\n",
    "        new_df['newbalanceDest']\n",
    "    )\n",
    ")"
   ]
  },
  {
   "cell_type": "code",
   "execution_count": 25,
   "id": "4478e9b5",
   "metadata": {},
   "outputs": [
    {
     "data": {
      "image/png": "[encoded data removed]",
      "text/plain": [
       "<Figure size 1440x1224 with 6 Axes>"
      ]
     },
     "metadata": {
      "needs_background": "light"
     },
     "output_type": "display_data"
    }
   ],
   "source": [
    "fig, axes = plt.subplots(2, 3, figsize=(20, 17))\n",
    "fig.suptitle('Outliers', fontsize=25)\n",
    "\n",
    "ax=sns.boxplot(ax=axes[0,0], data=new_df['amount'])\n",
    "ax.set_title('amount')\n",
    "ax=sns.boxplot(ax=axes[0,1], data=new_df['oldbalanceOrg'])\n",
    "ax.set_title('oldbalanceOrg')\n",
    "ax=sns.boxplot(ax=axes[0,2], data=new_df['newbalanceOrig'])\n",
    "ax.set_title('newbalanceOrig')\n",
    "ax=sns.boxplot(ax=axes[1,0], data=new_df['oldbalanceDest'])\n",
    "ax.set_title('oldbalanceDest')\n",
    "ax=sns.boxplot(ax=axes[1,1], data=new_df['newbalanceDest'])\n",
    "ax.set_title('newbalanceDest')\n",
    "\n",
    "plt.show()"
   ]
  },
  {
   "cell_type": "markdown",
   "id": "721ede65",
   "metadata": {},
   "source": [
    "* Outliers are removed from the dataset"
   ]
  },
  {
   "cell_type": "markdown",
   "id": "2ef4407c",
   "metadata": {},
   "source": [
    "### Fraud vs Normal Transactions"
   ]
  },
  {
   "cell_type": "code",
   "execution_count": 26,
   "id": "839da82a",
   "metadata": {},
   "outputs": [],
   "source": [
    "fraud = df[df['isFraud']==1]\n",
    "\n",
    "normal = df[df['isFraud']==0]"
   ]
  },
  {
   "cell_type": "code",
   "execution_count": 27,
   "id": "01010415",
   "metadata": {},
   "outputs": [
    {
     "name": "stdout",
     "output_type": "stream",
     "text": [
      "(8213, 11) (6354407, 11)\n"
     ]
    }
   ],
   "source": [
    "print(fraud.shape, normal.shape)"
   ]
  },
  {
   "cell_type": "code",
   "execution_count": 28,
   "id": "a2b5bc20",
   "metadata": {},
   "outputs": [
    {
     "data": {
      "text/plain": [
       "8053"
      ]
     },
     "execution_count": 28,
     "metadata": {},
     "output_type": "execute_result"
    }
   ],
   "source": [
    "fraud.newbalanceOrig.value_counts()[0]"
   ]
  },
  {
   "cell_type": "markdown",
   "id": "0af9980b",
   "metadata": {},
   "source": [
    "* Out of 8213 frauds, 8053 frauds have newbalanceOrig equal to 0"
   ]
  },
  {
   "cell_type": "code",
   "execution_count": 29,
   "id": "81c3bc58",
   "metadata": {},
   "outputs": [
    {
     "data": {
      "text/plain": [
       "4091"
      ]
     },
     "execution_count": 29,
     "metadata": {},
     "output_type": "execute_result"
    }
   ],
   "source": [
    "fraud.newbalanceDest.value_counts()[0]"
   ]
  },
  {
   "cell_type": "code",
   "execution_count": 30,
   "id": "f12ab218",
   "metadata": {},
   "outputs": [
    {
     "data": {
      "text/plain": [
       "5351"
      ]
     },
     "execution_count": 30,
     "metadata": {},
     "output_type": "execute_result"
    }
   ],
   "source": [
    "fraud.oldbalanceDest.value_counts()[0]"
   ]
  },
  {
   "cell_type": "code",
   "execution_count": 31,
   "id": "03cb2dca",
   "metadata": {},
   "outputs": [
    {
     "data": {
      "text/plain": [
       "count    8.213000e+03\n",
       "mean     1.467967e+06\n",
       "std      2.404253e+06\n",
       "min      0.000000e+00\n",
       "25%      1.270913e+05\n",
       "50%      4.414234e+05\n",
       "75%      1.517771e+06\n",
       "max      1.000000e+07\n",
       "Name: amount, dtype: float64"
      ]
     },
     "execution_count": 31,
     "metadata": {},
     "output_type": "execute_result"
    }
   ],
   "source": [
    "fraud.amount.describe()"
   ]
  },
  {
   "cell_type": "code",
   "execution_count": 32,
   "id": "ec292430",
   "metadata": {},
   "outputs": [
    {
     "data": {
      "text/plain": [
       "count    6.354407e+06\n",
       "mean     1.781970e+05\n",
       "std      5.962370e+05\n",
       "min      1.000000e-02\n",
       "25%      1.336840e+04\n",
       "50%      7.468472e+04\n",
       "75%      2.083648e+05\n",
       "max      9.244552e+07\n",
       "Name: amount, dtype: float64"
      ]
     },
     "execution_count": 32,
     "metadata": {},
     "output_type": "execute_result"
    }
   ],
   "source": [
    "normal.amount.describe()"
   ]
  },
  {
   "cell_type": "code",
   "execution_count": 33,
   "id": "3dd12727",
   "metadata": {},
   "outputs": [
    {
     "data": {
      "text/plain": [
       "(array([6.305206e+06, 3.355000e+04, 6.026000e+03, 2.342000e+03,\n",
       "        1.465000e+03, 3.655000e+03, 3.950000e+02, 3.230000e+02,\n",
       "        2.630000e+02, 2.280000e+02, 1.500000e+02, 1.260000e+02,\n",
       "        1.030000e+02, 9.100000e+01, 6.300000e+01, 5.500000e+01,\n",
       "        6.000000e+01, 5.300000e+01, 4.600000e+01, 4.200000e+01,\n",
       "        3.100000e+01, 2.600000e+01, 1.400000e+01, 7.000000e+00,\n",
       "        9.000000e+00, 1.700000e+01, 1.400000e+01, 1.000000e+01,\n",
       "        3.000000e+00, 8.000000e+00, 6.000000e+00, 4.000000e+00,\n",
       "        4.000000e+00, 2.000000e+00, 3.000000e+00, 0.000000e+00,\n",
       "        2.000000e+00, 2.000000e+00, 1.000000e+00, 1.000000e+00,\n",
       "        0.000000e+00, 0.000000e+00, 0.000000e+00, 0.000000e+00,\n",
       "        0.000000e+00, 0.000000e+00, 0.000000e+00, 0.000000e+00,\n",
       "        0.000000e+00, 1.000000e+00]),\n",
       " array([1.00000000e-02, 1.84891034e+06, 3.69782068e+06, 5.54673101e+06,\n",
       "        7.39564134e+06, 9.24455167e+06, 1.10934620e+07, 1.29423723e+07,\n",
       "        1.47912827e+07, 1.66401930e+07, 1.84891033e+07, 2.03380137e+07,\n",
       "        2.21869240e+07, 2.40358343e+07, 2.58847447e+07, 2.77336550e+07,\n",
       "        2.95825653e+07, 3.14314757e+07, 3.32803860e+07, 3.51292963e+07,\n",
       "        3.69782067e+07, 3.88271170e+07, 4.06760273e+07, 4.25249377e+07,\n",
       "        4.43738480e+07, 4.62227583e+07, 4.80716687e+07, 4.99205790e+07,\n",
       "        5.17694893e+07, 5.36183997e+07, 5.54673100e+07, 5.73162203e+07,\n",
       "        5.91651307e+07, 6.10140410e+07, 6.28629513e+07, 6.47118617e+07,\n",
       "        6.65607720e+07, 6.84096823e+07, 7.02585926e+07, 7.21075030e+07,\n",
       "        7.39564133e+07, 7.58053236e+07, 7.76542340e+07, 7.95031443e+07,\n",
       "        8.13520546e+07, 8.32009650e+07, 8.50498753e+07, 8.68987856e+07,\n",
       "        8.87476960e+07, 9.05966063e+07, 9.24455166e+07]),\n",
       " <BarContainer object of 50 artists>)"
      ]
     },
     "execution_count": 33,
     "metadata": {},
     "output_type": "execute_result"
    },
    {
     "data": {
      "image/png": "[encoded data removed]",
      "text/plain": [
       "<Figure size 1440x1080 with 2 Axes>"
      ]
     },
     "metadata": {
      "needs_background": "light"
     },
     "output_type": "display_data"
    }
   ],
   "source": [
    "fig, (ax1, ax2) = plt.subplots(2, 1, figsize=(20, 15))\n",
    "bins = 50\n",
    "\n",
    "ax1.hist(fraud['amount'], bins = bins)\n",
    "\n",
    "ax2.hist(normal['amount'], bins = bins)"
   ]
  },
  {
   "cell_type": "markdown",
   "id": "e01d5130",
   "metadata": {},
   "source": [
    "* Smaller amount of Transactions took place in case of Frauds"
   ]
  },
  {
   "cell_type": "code",
   "execution_count": 34,
   "id": "08cddfbe",
   "metadata": {},
   "outputs": [
    {
     "data": {
      "text/plain": [
       "<AxesSubplot:>"
      ]
     },
     "execution_count": 34,
     "metadata": {},
     "output_type": "execute_result"
    },
    {
     "data": {
      "image/png": "[encoded data removed]",
      "text/plain": [
       "<Figure size 1080x504 with 1 Axes>"
      ]
     },
     "metadata": {
      "needs_background": "light"
     },
     "output_type": "display_data"
    }
   ],
   "source": [
    "pdata = [fraud.amount.where(fraud.type=='CASH_IN').sum(), fraud.amount.where(fraud.type=='CASH_OUT').sum()\n",
    "         , fraud.amount.where(fraud.type=='DEBIT').sum(), fraud.amount.where(fraud.type=='PAYMENT').sum()\n",
    "         , fraud.amount.where(fraud.type=='TRANSFER').sum()]\n",
    "\n",
    "plt.figure(figsize=(15,7))\n",
    "sns.barplot(y=pdata, x=['CASH_IN', 'CASH_OUT', 'DEBIT', 'PAYMENT', 'TRANSFER'])"
   ]
  },
  {
   "cell_type": "markdown",
   "id": "878304b9",
   "metadata": {},
   "source": [
    "* CASH_OUT and TRANSFER are the major ways through which frauds are committed"
   ]
  },
  {
   "cell_type": "markdown",
   "id": "ef0fb5c6",
   "metadata": {},
   "source": [
    "## Model Building"
   ]
  },
  {
   "cell_type": "markdown",
   "id": "7042ca8b",
   "metadata": {},
   "source": [
    "### Isolation Forest & Local Outlier Factor"
   ]
  },
  {
   "cell_type": "code",
   "execution_count": 35,
   "id": "cc36fec6",
   "metadata": {},
   "outputs": [],
   "source": [
    "from sklearn.metrics import classification_report,accuracy_score\n",
    "from sklearn.ensemble import IsolationForest\n",
    "from sklearn.neighbors import LocalOutlierFactor\n",
    "from sklearn.svm import OneClassSVM"
   ]
  },
  {
   "cell_type": "code",
   "execution_count": 42,
   "id": "bbf09deb",
   "metadata": {},
   "outputs": [],
   "source": [
    "df1 = df.sample(frac = 0.01, random_state=1)"
   ]
  },
  {
   "cell_type": "code",
   "execution_count": 43,
   "id": "5cc12ae3",
   "metadata": {},
   "outputs": [
    {
     "name": "stdout",
     "output_type": "stream",
     "text": [
      "(63626, 5)\n",
      "(63626,)\n"
     ]
    }
   ],
   "source": [
    "state = np.random.RandomState(42)\n",
    "X = df1[['amount','oldbalanceOrg','newbalanceOrig','oldbalanceDest','newbalanceDest']]\n",
    "Y = df1['isFraud']\n",
    "X_outliers = state.uniform(low=0, high=1, size=(X.shape[0], X.shape[1]))\n",
    "\n",
    "print(X.shape)\n",
    "print(Y.shape)"
   ]
  },
  {
   "cell_type": "code",
   "execution_count": 44,
   "id": "a3d3095d",
   "metadata": {},
   "outputs": [
    {
     "data": {
      "text/html": [
       "<div>\n",
       "<style scoped>\n",
       "    .dataframe tbody tr th:only-of-type {\n",
       "        vertical-align: middle;\n",
       "    }\n",
       "\n",
       "    .dataframe tbody tr th {\n",
       "        vertical-align: top;\n",
       "    }\n",
       "\n",
       "    .dataframe thead th {\n",
       "        text-align: right;\n",
       "    }\n",
       "</style>\n",
       "<table border=\"1\" class=\"dataframe\">\n",
       "  <thead>\n",
       "    <tr style=\"text-align: right;\">\n",
       "      <th></th>\n",
       "      <th>amount</th>\n",
       "      <th>oldbalanceOrg</th>\n",
       "      <th>newbalanceOrig</th>\n",
       "      <th>oldbalanceDest</th>\n",
       "      <th>newbalanceDest</th>\n",
       "    </tr>\n",
       "  </thead>\n",
       "  <tbody>\n",
       "    <tr>\n",
       "      <th>6322570</th>\n",
       "      <td>23557.12</td>\n",
       "      <td>8059.00</td>\n",
       "      <td>31616.12</td>\n",
       "      <td>169508.66</td>\n",
       "      <td>145951.53</td>\n",
       "    </tr>\n",
       "    <tr>\n",
       "      <th>3621196</th>\n",
       "      <td>6236.13</td>\n",
       "      <td>0.00</td>\n",
       "      <td>0.00</td>\n",
       "      <td>0.00</td>\n",
       "      <td>0.00</td>\n",
       "    </tr>\n",
       "    <tr>\n",
       "      <th>1226256</th>\n",
       "      <td>33981.87</td>\n",
       "      <td>18745.72</td>\n",
       "      <td>0.00</td>\n",
       "      <td>0.00</td>\n",
       "      <td>0.00</td>\n",
       "    </tr>\n",
       "    <tr>\n",
       "      <th>2803274</th>\n",
       "      <td>263006.42</td>\n",
       "      <td>20072.00</td>\n",
       "      <td>0.00</td>\n",
       "      <td>390253.56</td>\n",
       "      <td>653259.98</td>\n",
       "    </tr>\n",
       "    <tr>\n",
       "      <th>3201247</th>\n",
       "      <td>152013.74</td>\n",
       "      <td>20765.00</td>\n",
       "      <td>0.00</td>\n",
       "      <td>252719.19</td>\n",
       "      <td>404732.93</td>\n",
       "    </tr>\n",
       "  </tbody>\n",
       "</table>\n",
       "</div>"
      ],
      "text/plain": [
       "            amount  oldbalanceOrg  newbalanceOrig  oldbalanceDest  \\\n",
       "6322570   23557.12        8059.00        31616.12       169508.66   \n",
       "3621196    6236.13           0.00            0.00            0.00   \n",
       "1226256   33981.87       18745.72            0.00            0.00   \n",
       "2803274  263006.42       20072.00            0.00       390253.56   \n",
       "3201247  152013.74       20765.00            0.00       252719.19   \n",
       "\n",
       "         newbalanceDest  \n",
       "6322570       145951.53  \n",
       "3621196            0.00  \n",
       "1226256            0.00  \n",
       "2803274       653259.98  \n",
       "3201247       404732.93  "
      ]
     },
     "execution_count": 44,
     "metadata": {},
     "output_type": "execute_result"
    }
   ],
   "source": [
    "X.head()"
   ]
  },
  {
   "cell_type": "code",
   "execution_count": 45,
   "id": "978842b5",
   "metadata": {},
   "outputs": [],
   "source": [
    "outlier_fraction = len(fraud)/float(len(normal))"
   ]
  },
  {
   "cell_type": "code",
   "execution_count": 46,
   "id": "de1cd75f",
   "metadata": {},
   "outputs": [],
   "source": [
    "##Define the outlier detection methods\n",
    "\n",
    "classifiers = {\n",
    "    \"Isolation Forest\":IsolationForest(n_estimators=100, max_samples=len(X), \n",
    "                                       contamination=outlier_fraction,random_state=state, verbose=0),\n",
    "    \n",
    "    \"Local Outlier Factor\":LocalOutlierFactor(n_neighbors=20, algorithm='auto', \n",
    "                                              leaf_size=30, metric='minkowski',\n",
    "                                              p=2, metric_params=None, contamination=outlier_fraction),\n",
    "    \n",
    "   # \"Support Vector Machine\":OneClassSVM(kernel='rbf', degree=3, gamma=0.1,nu=0.05, max_iter=-1)\n",
    "   \n",
    "}"
   ]
  },
  {
   "cell_type": "code",
   "execution_count": 47,
   "id": "bcb24c51",
   "metadata": {},
   "outputs": [
    {
     "name": "stdout",
     "output_type": "stream",
     "text": [
      "Isolation Forest: 165\n",
      "Accuracy Score :\n",
      "0.9974067205230566\n",
      "Classification Report :\n",
      "              precision    recall  f1-score   support\n",
      "\n",
      "           0       1.00      1.00      1.00     63536\n",
      "           1       0.05      0.04      0.05        90\n",
      "\n",
      "    accuracy                           1.00     63626\n",
      "   macro avg       0.52      0.52      0.52     63626\n",
      "weighted avg       1.00      1.00      1.00     63626\n",
      "\n",
      "Local Outlier Factor: 171\n",
      "Accuracy Score :\n",
      "0.9973124194511678\n",
      "Classification Report :\n",
      "              precision    recall  f1-score   support\n",
      "\n",
      "           0       1.00      1.00      1.00     63536\n",
      "           1       0.01      0.01      0.01        90\n",
      "\n",
      "    accuracy                           1.00     63626\n",
      "   macro avg       0.51      0.50      0.51     63626\n",
      "weighted avg       1.00      1.00      1.00     63626\n",
      "\n"
     ]
    }
   ],
   "source": [
    "n_outliers = len(fraud)\n",
    "for i, (clf_name,clf) in enumerate(classifiers.items()):\n",
    "    #Fit the data and tag outliers\n",
    "    if clf_name == \"Local Outlier Factor\":\n",
    "        y_pred = clf.fit_predict(X)\n",
    "        scores_prediction = clf.negative_outlier_factor_\n",
    "    elif clf_name == \"Support Vector Machine\":\n",
    "        clf.fit(X)\n",
    "        y_pred = clf.predict(X)\n",
    "    else:    \n",
    "        clf.fit(X)\n",
    "        scores_prediction = clf.decision_function(X)\n",
    "        y_pred = clf.predict(X)\n",
    "    #Reshape the prediction values to 0 for Valid transactions , 1 for Fraud transactions\n",
    "    y_pred[y_pred == 1] = 0\n",
    "    y_pred[y_pred == -1] = 1\n",
    "    n_errors = (y_pred != Y).sum()\n",
    "    # Run Classification Metrics\n",
    "    print(\"{}: {}\".format(clf_name,n_errors))\n",
    "    print(\"Accuracy Score :\")\n",
    "    print(accuracy_score(Y,y_pred))\n",
    "    print(\"Classification Report :\")\n",
    "    print(classification_report(Y,y_pred))"
   ]
  },
  {
   "cell_type": "markdown",
   "id": "6c65114c",
   "metadata": {},
   "source": [
    "(SVM is not shown here as it was taking too long to evaluate.)"
   ]
  },
  {
   "cell_type": "markdown",
   "id": "f1f278b8",
   "metadata": {},
   "source": [
    "### Decision Tree"
   ]
  },
  {
   "cell_type": "code",
   "execution_count": 48,
   "id": "c5f4ee9e",
   "metadata": {},
   "outputs": [],
   "source": [
    "fraud1 = fraud.iloc[:8000]\n",
    "normal1 = normal.iloc[:8000]"
   ]
  },
  {
   "cell_type": "code",
   "execution_count": 49,
   "id": "911b46a9",
   "metadata": {},
   "outputs": [],
   "source": [
    "df1 = fraud1.append(normal1, ignore_index=True)"
   ]
  },
  {
   "cell_type": "code",
   "execution_count": 50,
   "id": "6c56e2a6",
   "metadata": {},
   "outputs": [],
   "source": [
    "X = df1[['amount','oldbalanceOrg','newbalanceOrig','oldbalanceDest','newbalanceDest']]\n",
    "Y = df1['isFraud']"
   ]
  },
  {
   "cell_type": "code",
   "execution_count": 51,
   "id": "e308f51a",
   "metadata": {},
   "outputs": [
    {
     "name": "stdout",
     "output_type": "stream",
     "text": [
      "(16000, 5)\n",
      "(16000,)\n"
     ]
    }
   ],
   "source": [
    "print(X.shape)\n",
    "print(Y.shape)"
   ]
  },
  {
   "cell_type": "code",
   "execution_count": 52,
   "id": "ead425e2",
   "metadata": {},
   "outputs": [],
   "source": [
    "from sklearn.tree import DecisionTreeClassifier\n",
    "from sklearn.metrics import confusion_matrix"
   ]
  },
  {
   "cell_type": "code",
   "execution_count": 53,
   "id": "95fa5114",
   "metadata": {},
   "outputs": [],
   "source": [
    "X_train, X_test, y_train, y_test = train_test_split(X, Y, test_size=0.20, random_state=42)\n",
    "\n",
    "dtree = DecisionTreeClassifier()\n",
    "dtree = dtree.fit(X_train, y_train)\n",
    "y_pred = dtree.predict(X_test)"
   ]
  },
  {
   "cell_type": "code",
   "execution_count": 54,
   "id": "28e368ac",
   "metadata": {},
   "outputs": [
    {
     "data": {
      "text/plain": [
       "array([[1573,   23],\n",
       "       [  15, 1589]], dtype=int64)"
      ]
     },
     "execution_count": 54,
     "metadata": {},
     "output_type": "execute_result"
    }
   ],
   "source": [
    "confusion_matrix(y_test, y_pred)\n"
   ]
  },
  {
   "cell_type": "code",
   "execution_count": 55,
   "id": "3edecfa5",
   "metadata": {},
   "outputs": [
    {
     "data": {
      "text/plain": [
       "98.8125"
      ]
     },
     "execution_count": 55,
     "metadata": {},
     "output_type": "execute_result"
    }
   ],
   "source": [
    "accuracy_score(y_test,y_pred)*100\n"
   ]
  },
  {
   "cell_type": "code",
   "execution_count": 56,
   "id": "a9836b7f",
   "metadata": {},
   "outputs": [
    {
     "data": {
      "text/plain": [
       "'              precision    recall  f1-score   support\\n\\n           0       0.99      0.99      0.99      1596\\n           1       0.99      0.99      0.99      1604\\n\\n    accuracy                           0.99      3200\\n   macro avg       0.99      0.99      0.99      3200\\nweighted avg       0.99      0.99      0.99      3200\\n'"
      ]
     },
     "execution_count": 56,
     "metadata": {},
     "output_type": "execute_result"
    }
   ],
   "source": [
    "classification_report(y_test, y_pred)"
   ]
  },
  {
   "cell_type": "markdown",
   "id": "81bcbe6e",
   "metadata": {},
   "source": [
    "## Data cleaning including missing values, outliers and multi-collinearity"
   ]
  },
  {
   "cell_type": "markdown",
   "id": "053af9b9",
   "metadata": {},
   "source": [
    "* No missing values in the data are found.\n",
    "\n",
    "\n",
    "* Outliers are found in each of the features respectively and thay have been taken care of by using capping\n",
    "\n",
    "\n",
    "* **oldbalanceOrg** is highly correlated with **newbalanceOrig**, **oldbalanceDest** is highly correlated with **newbalanceOrg**"
   ]
  },
  {
   "cell_type": "markdown",
   "id": "8a97b77b",
   "metadata": {},
   "source": [
    "## Fraud detection models"
   ]
  },
  {
   "cell_type": "markdown",
   "id": "fb5838c5",
   "metadata": {},
   "source": [
    "**Isolation Forest Algorithm:**\n",
    "\n",
    "The algorithm is based on the fact that anomalies are data points that are few and different. As a result of these properties, anomalies are susceptible to a mechanism called isolation.\n",
    "\n",
    "This method is highly useful and is fundamentally different from all existing methods. It introduces the use of isolation as a more effective and efficient means to detect anomalies than the commonly used basic distance and density measures. Moreover, this method is an algorithm with a low linear time complexity and a small memory requirement. It builds a good performing model with a small number of trees using small sub-samples of fixed size, regardless of the size of a data set.\n",
    "\n",
    "How Isolation Forests Work The Isolation Forest algorithm isolates observations by randomly selecting a feature and then randomly selecting a split value between the maximum and minimum values of the selected feature. The logic argument goes: isolating anomaly observations is easier because only a few conditions are needed to separate those cases from the normal observations. On the other hand, isolating normal observations require more conditions. Therefore, an anomaly score can be calculated as the number of conditions required to separate a given observation.\n",
    "\n",
    "The way that the algorithm constructs the separation is by first creating isolation trees, or random decision trees. Then, the score is calculated as the path length to isolate the observation.\n",
    "\n",
    "**Local Outlier Factor(LOF) Algorithm:**\n",
    "\n",
    "The LOF algorithm is an unsupervised outlier detection method which computes the local density deviation of a given data point with respect to its neighbors. It considers as outlier samples that have a substantially lower density than their neighbors.\n",
    "\n",
    "The number of neighbors considered, (parameter n_neighbors) is typically chosen 1) greater than the minimum number of objects a cluster has to contain, so that other objects can be local outliers relative to this cluster, and 2) smaller than the maximum number of close by objects that can potentially be local outliers. In practice, such informations are generally not available, and taking n_neighbors=20 appears to work well in general.\n",
    "\n",
    "**Decision Tree Algorithm:**\n",
    "\n",
    "A decision tree builds upon iteratively asking questions to partition data. The aim of the decision tree algorithm is to increase the predictiveness as much as possible at each partitioning so that the model keeps gaining information about the dataset. Randomly splitting the features does not usually give us valuable insight into the dataset. Splits that increase purity of nodes are more informative. The purity of a node is inversely proportional to the distribution of different classes in that node. The questions to ask are chosen in a way that increases purity or decrease impurity."
   ]
  },
  {
   "cell_type": "code",
   "execution_count": null,
   "id": "8e75da4b",
   "metadata": {},
   "outputs": [],
   "source": []
  }
 ],
 "metadata": {
  "kernelspec": {
   "display_name": "Python 3 (ipykernel)",
   "language": "python",
   "name": "python3"
  },
  "language_info": {
   "codemirror_mode": {
    "name": "ipython",
    "version": 3
   },
   "file_extension": ".py",
   "mimetype": "text/x-python",
   "name": "python",
   "nbconvert_exporter": "python",
   "pygments_lexer": "ipython3",
   "version": "3.8.12"
  }
 },
 "nbformat": 4,
 "nbformat_minor": 5
}
